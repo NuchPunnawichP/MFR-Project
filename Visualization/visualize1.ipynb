import numpy as np
import matplotlib.pyplot as plt

# Parameters
A = 1  # Amplitude
w = 5  # omega = 5 rad/s
T = 2 * np.pi / w  # Period of one full cycle
t = np.linspace(0, T, 500)  # Time from 0 to T

# Equation: x(t) = A * (1 - cos(wt))
x = A * (1 - np.cos(w * t))

# Plotting
plt.figure(figsize=(10, 5))
plt.plot(t, x, label=r'$x(t) = A(1 - \cos(\omega t))$', color='blue')
plt.title('Visualization of 1 - cos(wt) Motion Profile')
plt.xlabel('Time (s)')
plt.ylabel('Position (x)')
plt.grid(True)
plt.legend()
plt.tight_layout()
plt.show()
